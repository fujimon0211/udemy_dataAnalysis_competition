{
 "cells": [
  {
   "cell_type": "code",
   "execution_count": 1,
   "id": "e109e85e-bbc1-4667-ba0d-423a7f68dbb4",
   "metadata": {},
   "outputs": [],
   "source": [
    "import glob\n",
    "import pandas as pd\n",
    "import numpy as np\n",
    "import matplotlib.pyplot as plt\n",
    "import seaborn as sns\n",
    "import test_func as tf\n",
    "%matplotlib inline"
   ]
  },
  {
   "cell_type": "code",
   "execution_count": 2,
   "id": "71207ad0-2eb0-484c-8971-eaaee7efc323",
   "metadata": {},
   "outputs": [
    {
     "name": "stderr",
     "output_type": "stream",
     "text": [
      "C:\\Users\\fujir\\AppData\\Local\\Temp\\ipykernel_20584\\759100116.py:5: DtypeWarning: Columns (10) have mixed types. Specify dtype option on import or set low_memory=False.\n",
      "  data_list.append(pd.read_csv(file,index_col=0))\n",
      "C:\\Users\\fujir\\AppData\\Local\\Temp\\ipykernel_20584\\759100116.py:5: DtypeWarning: Columns (10) have mixed types. Specify dtype option on import or set low_memory=False.\n",
      "  data_list.append(pd.read_csv(file,index_col=0))\n"
     ]
    }
   ],
   "source": [
    "files=glob.glob(\"train/*.csv\")\n",
    "data_list=[]\n",
    "\n",
    "for file in files:\n",
    "    data_list.append(pd.read_csv(file,index_col=0))\n",
    "df=pd.concat(data_list)    "
   ]
  },
  {
   "cell_type": "code",
   "execution_count": 3,
   "id": "ece1ce85-50af-4c49-92a9-b4e7140ef934",
   "metadata": {},
   "outputs": [
    {
     "data": {
      "text/plain": [
       "(637351, 27)"
      ]
     },
     "execution_count": 3,
     "metadata": {},
     "output_type": "execute_result"
    }
   ],
   "source": [
    "df.shape"
   ]
  },
  {
   "cell_type": "code",
   "execution_count": 4,
   "id": "e8afd56a-492b-4d07-b0ae-76276cdaae85",
   "metadata": {},
   "outputs": [
    {
     "name": "stdout",
     "output_type": "stream",
     "text": [
      "<class 'pandas.core.frame.DataFrame'>\n",
      "Int64Index: 637351 entries, 1060685 to 47003572\n",
      "Data columns (total 27 columns):\n",
      " #   Column        Non-Null Count   Dtype  \n",
      "---  ------        --------------   -----  \n",
      " 0   種類            637351 non-null  object \n",
      " 1   地域            0 non-null       float64\n",
      " 2   市区町村コード       637351 non-null  int64  \n",
      " 3   都道府県名         637351 non-null  object \n",
      " 4   市区町村名         637351 non-null  object \n",
      " 5   地区名           637060 non-null  object \n",
      " 6   最寄駅：名称        634732 non-null  object \n",
      " 7   最寄駅：距離（分）     614306 non-null  object \n",
      " 8   間取り           615609 non-null  object \n",
      " 9   面積（㎡）         637351 non-null  object \n",
      " 10  土地の形状         0 non-null       float64\n",
      " 11  間口            0 non-null       float64\n",
      " 12  延床面積（㎡）       0 non-null       float64\n",
      " 13  建築年           619117 non-null  object \n",
      " 14  建物の構造         623423 non-null  object \n",
      " 15  用途            591214 non-null  object \n",
      " 16  今後の利用目的       275091 non-null  object \n",
      " 17  前面道路：方位       0 non-null       float64\n",
      " 18  前面道路：種類       0 non-null       float64\n",
      " 19  前面道路：幅員（ｍ）    0 non-null       float64\n",
      " 20  都市計画          618786 non-null  object \n",
      " 21  建ぺい率（％）       614848 non-null  float64\n",
      " 22  容積率（％）        614848 non-null  float64\n",
      " 23  取引時点          637351 non-null  object \n",
      " 24  改装            580431 non-null  object \n",
      " 25  取引の事情等        18275 non-null   object \n",
      " 26  取引価格（総額）_log  637351 non-null  float64\n",
      "dtypes: float64(10), int64(1), object(16)\n",
      "memory usage: 136.2+ MB\n"
     ]
    }
   ],
   "source": [
    "df.info()\n"
   ]
  },
  {
   "cell_type": "code",
   "execution_count": 5,
   "id": "68448a3e-88e1-4033-aa32-96ad4c8e0410",
   "metadata": {},
   "outputs": [],
   "source": [
    "nonnull_list=[]\n",
    "\n",
    "for col in df.columns:\n",
    "    nonnull=df[col].count()\n",
    "    if nonnull==0:\n",
    "        nonnull_list.append(col)"
   ]
  },
  {
   "cell_type": "code",
   "execution_count": 6,
   "id": "3ecb5181-640a-4815-a13f-25afbddf0de2",
   "metadata": {},
   "outputs": [
    {
     "data": {
      "text/plain": [
       "['地域', '土地の形状', '間口', '延床面積（㎡）', '前面道路：方位', '前面道路：種類', '前面道路：幅員（ｍ）']"
      ]
     },
     "execution_count": 6,
     "metadata": {},
     "output_type": "execute_result"
    }
   ],
   "source": [
    "nonnull_list"
   ]
  },
  {
   "cell_type": "code",
   "execution_count": 7,
   "id": "a2db0ac3-9de8-4865-873f-2bdcade6e01e",
   "metadata": {},
   "outputs": [],
   "source": [
    "df=df.drop(nonnull_list,axis=1)"
   ]
  },
  {
   "cell_type": "code",
   "execution_count": 8,
   "id": "2318562e-c7f4-4895-9536-cb36856835f5",
   "metadata": {},
   "outputs": [
    {
     "name": "stdout",
     "output_type": "stream",
     "text": [
      "<class 'pandas.core.frame.DataFrame'>\n",
      "Int64Index: 637351 entries, 1060685 to 47003572\n",
      "Data columns (total 20 columns):\n",
      " #   Column        Non-Null Count   Dtype  \n",
      "---  ------        --------------   -----  \n",
      " 0   種類            637351 non-null  object \n",
      " 1   市区町村コード       637351 non-null  int64  \n",
      " 2   都道府県名         637351 non-null  object \n",
      " 3   市区町村名         637351 non-null  object \n",
      " 4   地区名           637060 non-null  object \n",
      " 5   最寄駅：名称        634732 non-null  object \n",
      " 6   最寄駅：距離（分）     614306 non-null  object \n",
      " 7   間取り           615609 non-null  object \n",
      " 8   面積（㎡）         637351 non-null  object \n",
      " 9   建築年           619117 non-null  object \n",
      " 10  建物の構造         623423 non-null  object \n",
      " 11  用途            591214 non-null  object \n",
      " 12  今後の利用目的       275091 non-null  object \n",
      " 13  都市計画          618786 non-null  object \n",
      " 14  建ぺい率（％）       614848 non-null  float64\n",
      " 15  容積率（％）        614848 non-null  float64\n",
      " 16  取引時点          637351 non-null  object \n",
      " 17  改装            580431 non-null  object \n",
      " 18  取引の事情等        18275 non-null   object \n",
      " 19  取引価格（総額）_log  637351 non-null  float64\n",
      "dtypes: float64(3), int64(1), object(16)\n",
      "memory usage: 102.1+ MB\n"
     ]
    }
   ],
   "source": [
    "df.info()"
   ]
  },
  {
   "cell_type": "code",
   "execution_count": 9,
   "id": "1a535131-556f-4c40-829f-e89af4f80f4a",
   "metadata": {},
   "outputs": [],
   "source": [
    "df=df.drop(['種類'],axis=1)"
   ]
  },
  {
   "cell_type": "code",
   "execution_count": 10,
   "id": "6a19ab4e-9a95-4e2c-aeee-ba9f800984d6",
   "metadata": {},
   "outputs": [
    {
     "name": "stdout",
     "output_type": "stream",
     "text": [
      "<class 'pandas.core.frame.DataFrame'>\n",
      "Int64Index: 637351 entries, 1060685 to 47003572\n",
      "Data columns (total 19 columns):\n",
      " #   Column        Non-Null Count   Dtype  \n",
      "---  ------        --------------   -----  \n",
      " 0   市区町村コード       637351 non-null  int64  \n",
      " 1   都道府県名         637351 non-null  object \n",
      " 2   市区町村名         637351 non-null  object \n",
      " 3   地区名           637060 non-null  object \n",
      " 4   最寄駅：名称        634732 non-null  object \n",
      " 5   最寄駅：距離（分）     614306 non-null  object \n",
      " 6   間取り           615609 non-null  object \n",
      " 7   面積（㎡）         637351 non-null  object \n",
      " 8   建築年           619117 non-null  object \n",
      " 9   建物の構造         623423 non-null  object \n",
      " 10  用途            591214 non-null  object \n",
      " 11  今後の利用目的       275091 non-null  object \n",
      " 12  都市計画          618786 non-null  object \n",
      " 13  建ぺい率（％）       614848 non-null  float64\n",
      " 14  容積率（％）        614848 non-null  float64\n",
      " 15  取引時点          637351 non-null  object \n",
      " 16  改装            580431 non-null  object \n",
      " 17  取引の事情等        18275 non-null   object \n",
      " 18  取引価格（総額）_log  637351 non-null  float64\n",
      "dtypes: float64(3), int64(1), object(15)\n",
      "memory usage: 97.3+ MB\n"
     ]
    }
   ],
   "source": [
    "df.info()"
   ]
  },
  {
   "cell_type": "code",
   "execution_count": 11,
   "id": "e0b00c5e-12eb-457a-8048-3ba74711cbca",
   "metadata": {},
   "outputs": [],
   "source": [
    "df=df.drop(['市区町村名'],axis=1)"
   ]
  },
  {
   "cell_type": "code",
   "execution_count": 12,
   "id": "d7d755fb-2397-4a80-9ae8-e902c03bf76c",
   "metadata": {},
   "outputs": [
    {
     "name": "stdout",
     "output_type": "stream",
     "text": [
      "<class 'pandas.core.frame.DataFrame'>\n",
      "Int64Index: 637351 entries, 1060685 to 47003572\n",
      "Data columns (total 18 columns):\n",
      " #   Column        Non-Null Count   Dtype  \n",
      "---  ------        --------------   -----  \n",
      " 0   市区町村コード       637351 non-null  int64  \n",
      " 1   都道府県名         637351 non-null  object \n",
      " 2   地区名           637060 non-null  object \n",
      " 3   最寄駅：名称        634732 non-null  object \n",
      " 4   最寄駅：距離（分）     614306 non-null  object \n",
      " 5   間取り           615609 non-null  object \n",
      " 6   面積（㎡）         637351 non-null  object \n",
      " 7   建築年           619117 non-null  object \n",
      " 8   建物の構造         623423 non-null  object \n",
      " 9   用途            591214 non-null  object \n",
      " 10  今後の利用目的       275091 non-null  object \n",
      " 11  都市計画          618786 non-null  object \n",
      " 12  建ぺい率（％）       614848 non-null  float64\n",
      " 13  容積率（％）        614848 non-null  float64\n",
      " 14  取引時点          637351 non-null  object \n",
      " 15  改装            580431 non-null  object \n",
      " 16  取引の事情等        18275 non-null   object \n",
      " 17  取引価格（総額）_log  637351 non-null  float64\n",
      "dtypes: float64(3), int64(1), object(14)\n",
      "memory usage: 92.4+ MB\n"
     ]
    }
   ],
   "source": [
    "df.info()"
   ]
  },
  {
   "cell_type": "code",
   "execution_count": 13,
   "id": "221c6f87-0ef5-4644-bd3e-b746a6bb4599",
   "metadata": {},
   "outputs": [
    {
     "data": {
      "text/plain": [
       "6          50928\n",
       "4          48883\n",
       "5          45337\n",
       "8          44277\n",
       "3          42880\n",
       "9          38379\n",
       "7          32369\n",
       "30分?60分    31999\n",
       "10         31572\n",
       "11         30625\n",
       "2          27100\n",
       "13         22934\n",
       "1          19746\n",
       "14         18759\n",
       "15         18552\n",
       "12         15068\n",
       "16         14354\n",
       "18         11651\n",
       "19         10533\n",
       "20          8910\n",
       "21          7163\n",
       "23          6663\n",
       "25          6169\n",
       "24          4884\n",
       "28          4133\n",
       "26          3996\n",
       "0           3704\n",
       "1H?1H30     3624\n",
       "29          3587\n",
       "17          2515\n",
       "22          1082\n",
       "2H?          826\n",
       "1H30?2H      692\n",
       "27           412\n",
       "Name: 最寄駅：距離（分）, dtype: int64"
      ]
     },
     "execution_count": 13,
     "metadata": {},
     "output_type": "execute_result"
    }
   ],
   "source": [
    "df['最寄駅：距離（分）'].value_counts()"
   ]
  },
  {
   "cell_type": "code",
   "execution_count": 14,
   "id": "fac6cadf-29f5-4d47-a770-b07ececca7d7",
   "metadata": {},
   "outputs": [],
   "source": [
    "dis={\n",
    "    '30分?60分':45,\n",
    "    '1H?1H30':75,\n",
    "    '1H30?2H':105,\n",
    "    '2H?':120,\n",
    "}"
   ]
  },
  {
   "cell_type": "code",
   "execution_count": 15,
   "id": "e31495fb-1c6a-4eff-b243-923a91c54536",
   "metadata": {},
   "outputs": [],
   "source": [
    "df['最寄駅：距離（分）']=df['最寄駅：距離（分）'].replace(dis).astype(float)"
   ]
  },
  {
   "cell_type": "code",
   "execution_count": 16,
   "id": "ce692775-28bf-4d85-9caf-9769c496facb",
   "metadata": {},
   "outputs": [
    {
     "data": {
      "text/plain": [
       "6.0      50928\n",
       "4.0      48883\n",
       "5.0      45337\n",
       "8.0      44277\n",
       "3.0      42880\n",
       "9.0      38379\n",
       "7.0      32369\n",
       "45.0     31999\n",
       "10.0     31572\n",
       "11.0     30625\n",
       "2.0      27100\n",
       "13.0     22934\n",
       "1.0      19746\n",
       "14.0     18759\n",
       "15.0     18552\n",
       "12.0     15068\n",
       "16.0     14354\n",
       "18.0     11651\n",
       "19.0     10533\n",
       "20.0      8910\n",
       "21.0      7163\n",
       "23.0      6663\n",
       "25.0      6169\n",
       "24.0      4884\n",
       "28.0      4133\n",
       "26.0      3996\n",
       "0.0       3704\n",
       "75.0      3624\n",
       "29.0      3587\n",
       "17.0      2515\n",
       "22.0      1082\n",
       "120.0      826\n",
       "105.0      692\n",
       "27.0       412\n",
       "Name: 最寄駅：距離（分）, dtype: int64"
      ]
     },
     "execution_count": 16,
     "metadata": {},
     "output_type": "execute_result"
    }
   ],
   "source": [
    "df['最寄駅：距離（分）'].value_counts()"
   ]
  },
  {
   "cell_type": "code",
   "execution_count": 17,
   "id": "10c645c0-0d57-4632-a710-3164e44db592",
   "metadata": {},
   "outputs": [
    {
     "data": {
      "text/plain": [
       "70         70301\n",
       "65         65176\n",
       "60         51968\n",
       "75         47362\n",
       "20         40770\n",
       "55         39149\n",
       "80         32482\n",
       "50         27629\n",
       "15         25113\n",
       "85         19604\n",
       "25         18841\n",
       "45         17514\n",
       "70         13142\n",
       "65         13113\n",
       "90         12485\n",
       "40         12221\n",
       "60         11289\n",
       "20         11258\n",
       "30          9880\n",
       "35          9482\n",
       "75          9282\n",
       "95          9121\n",
       "55          8035\n",
       "80          7090\n",
       "15          5740\n",
       "25          5654\n",
       "50          5448\n",
       "85          4530\n",
       "100         4501\n",
       "45          3147\n",
       "90          2889\n",
       "40          2785\n",
       "105         2594\n",
       "30          2548\n",
       "35          2174\n",
       "95          1887\n",
       "110         1625\n",
       "115         1176\n",
       "10          1003\n",
       "100          925\n",
       "120          806\n",
       "105          581\n",
       "125          562\n",
       "130          405\n",
       "110          394\n",
       "10           310\n",
       "115          308\n",
       "135          300\n",
       "145          215\n",
       "140          203\n",
       "120          193\n",
       "125          162\n",
       "150          145\n",
       "130          141\n",
       "155          131\n",
       "135           98\n",
       "160           91\n",
       "165           79\n",
       "180           77\n",
       "140           73\n",
       "145           72\n",
       "170           71\n",
       "190           54\n",
       "185           53\n",
       "150           44\n",
       "175           44\n",
       "210           43\n",
       "230           42\n",
       "200           39\n",
       "160           38\n",
       "195           36\n",
       "155           36\n",
       "220           30\n",
       "170           27\n",
       "180           27\n",
       "250           22\n",
       "240           22\n",
       "260           21\n",
       "270           20\n",
       "290           16\n",
       "185           16\n",
       "190           15\n",
       "165           14\n",
       "210           12\n",
       "175           12\n",
       "340           11\n",
       "330           10\n",
       "390            9\n",
       "200            8\n",
       "310            8\n",
       "370            8\n",
       "195            8\n",
       "320            7\n",
       "350            7\n",
       "280            7\n",
       "360            7\n",
       "440            7\n",
       "450            7\n",
       "480            7\n",
       "2000㎡以上        7\n",
       "1000           6\n",
       "460            6\n",
       "220            6\n",
       "320            5\n",
       "290            5\n",
       "300            5\n",
       "500            5\n",
       "310            4\n",
       "380            4\n",
       "760            4\n",
       "680            4\n",
       "250            4\n",
       "690            3\n",
       "860            3\n",
       "470            3\n",
       "700            3\n",
       "490            3\n",
       "650            3\n",
       "410            3\n",
       "270            3\n",
       "630            3\n",
       "590            3\n",
       "730            3\n",
       "230            3\n",
       "360            3\n",
       "260            3\n",
       "300            3\n",
       "710            3\n",
       "970            3\n",
       "1200           2\n",
       "1300           2\n",
       "770            2\n",
       "340            2\n",
       "1100           2\n",
       "660            2\n",
       "560            2\n",
       "650            2\n",
       "590            2\n",
       "410            2\n",
       "240            2\n",
       "510            2\n",
       "470            2\n",
       "670            2\n",
       "400            2\n",
       "450            2\n",
       "580            2\n",
       "430            2\n",
       "600            2\n",
       "390            2\n",
       "420            2\n",
       "520            2\n",
       "520            2\n",
       "620            2\n",
       "400            2\n",
       "1500           1\n",
       "490            1\n",
       "560            1\n",
       "350            1\n",
       "370            1\n",
       "760            1\n",
       "1400           1\n",
       "730            1\n",
       "440            1\n",
       "330            1\n",
       "500            1\n",
       "740            1\n",
       "480            1\n",
       "830            1\n",
       "710            1\n",
       "980            1\n",
       "820            1\n",
       "900            1\n",
       "660            1\n",
       "830            1\n",
       "510            1\n",
       "720            1\n",
       "820            1\n",
       "890            1\n",
       "630            1\n",
       "550            1\n",
       "540            1\n",
       "960            1\n",
       "740            1\n",
       "940            1\n",
       "900            1\n",
       "780            1\n",
       "1500           1\n",
       "280            1\n",
       "790            1\n",
       "610            1\n",
       "990            1\n",
       "780            1\n",
       "530            1\n",
       "800            1\n",
       "570            1\n",
       "Name: 面積（㎡）, dtype: int64"
      ]
     },
     "execution_count": 17,
     "metadata": {},
     "output_type": "execute_result"
    }
   ],
   "source": [
    "pd.set_option('display.max_rows',500)\n",
    "df['面積（㎡）'].value_counts()"
   ]
  },
  {
   "cell_type": "code",
   "execution_count": 18,
   "id": "51c88df4-a845-4080-a946-e51c040baae8",
   "metadata": {},
   "outputs": [],
   "source": [
    "df['面積（㎡）']=df['面積（㎡）'].replace({'2000㎡以上':2000}).astype(float)"
   ]
  },
  {
   "cell_type": "code",
   "execution_count": 19,
   "id": "eb74a702-b772-4b2c-b6e2-c8a7f6504f75",
   "metadata": {},
   "outputs": [
    {
     "data": {
      "text/plain": [
       "70.0      83443\n",
       "65.0      78289\n",
       "60.0      63257\n",
       "75.0      56644\n",
       "20.0      52028\n",
       "55.0      47184\n",
       "80.0      39572\n",
       "50.0      33077\n",
       "15.0      30853\n",
       "25.0      24495\n",
       "85.0      24134\n",
       "45.0      20661\n",
       "90.0      15374\n",
       "40.0      15006\n",
       "30.0      12428\n",
       "35.0      11656\n",
       "95.0      11008\n",
       "100.0      5426\n",
       "105.0      3175\n",
       "110.0      2019\n",
       "115.0      1484\n",
       "10.0       1313\n",
       "120.0       999\n",
       "125.0       724\n",
       "130.0       546\n",
       "135.0       398\n",
       "145.0       287\n",
       "140.0       276\n",
       "150.0       189\n",
       "155.0       167\n",
       "160.0       129\n",
       "180.0       104\n",
       "170.0        98\n",
       "165.0        93\n",
       "190.0        69\n",
       "185.0        69\n",
       "175.0        56\n",
       "210.0        55\n",
       "200.0        47\n",
       "230.0        45\n",
       "195.0        44\n",
       "220.0        36\n",
       "250.0        26\n",
       "240.0        24\n",
       "260.0        24\n",
       "270.0        23\n",
       "290.0        21\n",
       "340.0        13\n",
       "320.0        12\n",
       "310.0        12\n",
       "330.0        11\n",
       "390.0        11\n",
       "360.0        10\n",
       "370.0         9\n",
       "450.0         9\n",
       "480.0         8\n",
       "440.0         8\n",
       "350.0         8\n",
       "280.0         8\n",
       "300.0         8\n",
       "2000.0        7\n",
       "1000.0        6\n",
       "500.0         6\n",
       "460.0         6\n",
       "760.0         5\n",
       "650.0         5\n",
       "470.0         5\n",
       "590.0         5\n",
       "410.0         5\n",
       "710.0         4\n",
       "380.0         4\n",
       "730.0         4\n",
       "400.0         4\n",
       "520.0         4\n",
       "680.0         4\n",
       "630.0         4\n",
       "490.0         4\n",
       "560.0         3\n",
       "660.0         3\n",
       "860.0         3\n",
       "690.0         3\n",
       "700.0         3\n",
       "970.0         3\n",
       "510.0         3\n",
       "1200.0        2\n",
       "780.0         2\n",
       "670.0         2\n",
       "1100.0        2\n",
       "1300.0        2\n",
       "830.0         2\n",
       "900.0         2\n",
       "420.0         2\n",
       "580.0         2\n",
       "820.0         2\n",
       "740.0         2\n",
       "430.0         2\n",
       "1500.0        2\n",
       "770.0         2\n",
       "620.0         2\n",
       "600.0         2\n",
       "890.0         1\n",
       "790.0         1\n",
       "980.0         1\n",
       "1400.0        1\n",
       "800.0         1\n",
       "610.0         1\n",
       "530.0         1\n",
       "990.0         1\n",
       "940.0         1\n",
       "960.0         1\n",
       "540.0         1\n",
       "550.0         1\n",
       "720.0         1\n",
       "570.0         1\n",
       "Name: 面積（㎡）, dtype: int64"
      ]
     },
     "execution_count": 19,
     "metadata": {},
     "output_type": "execute_result"
    }
   ],
   "source": [
    "df['面積（㎡）'].value_counts()"
   ]
  },
  {
   "cell_type": "code",
   "execution_count": 20,
   "id": "0ed96694-c9eb-4872-8bc7-064213c9ec18",
   "metadata": {},
   "outputs": [
    {
     "data": {
      "text/plain": [
       "'20'"
      ]
     },
     "execution_count": 20,
     "metadata": {},
     "output_type": "execute_result"
    }
   ],
   "source": [
    "df[\"建築年\"].value_counts().keys()[1].split(\"平成\")[1].split(\"年\")[0]"
   ]
  },
  {
   "cell_type": "code",
   "execution_count": 21,
   "id": "a45ef27b-e11c-41e9-97c0-2016827a2d51",
   "metadata": {},
   "outputs": [],
   "source": [
    "y_list={}\n",
    "\n",
    "for i in df[\"建築年\"].value_counts().keys():\n",
    "    if '平成' in i:\n",
    "        num=float(i.split('平成')[1].split('年')[0])\n",
    "        year=33-num\n",
    "    if '令和' in i:\n",
    "        num=float(i.split('令和')[1].split('年')[0])\n",
    "        year=3-num\n",
    "    if '昭和' in i:\n",
    "        num=float(i.split('昭和')[1].split('年')[0])\n",
    "        year=96-num\n",
    "    y_list[i]=year\n",
    "    y_list['戦前']=76\n",
    "df[\"建築年\"]=df[\"建築年\"].replace(y_list)        "
   ]
  },
  {
   "cell_type": "code",
   "execution_count": 22,
   "id": "77339017-7148-4d20-b304-6d2bb60bad42",
   "metadata": {},
   "outputs": [
    {
     "data": {
      "text/plain": [
       "ID\n",
       "1060685     26.0\n",
       "1005580     39.0\n",
       "1001363     30.0\n",
       "1052374      6.0\n",
       "1059107     39.0\n",
       "            ... \n",
       "47006436     3.0\n",
       "47016923    16.0\n",
       "47027429    37.0\n",
       "47001601     7.0\n",
       "47003572     7.0\n",
       "Name: 建築年, Length: 637351, dtype: float64"
      ]
     },
     "execution_count": 22,
     "metadata": {},
     "output_type": "execute_result"
    }
   ],
   "source": [
    "df[\"建築年\"]"
   ]
  },
  {
   "cell_type": "code",
   "execution_count": 23,
   "id": "20e398f8-a1cf-4763-a66c-0b471bc8e0a5",
   "metadata": {},
   "outputs": [
    {
     "data": {
      "text/plain": [
       "ID\n",
       "1060685     2009年第４四半期\n",
       "1005580     2018年第３四半期\n",
       "1001363     2010年第２四半期\n",
       "1052374     2015年第３四半期\n",
       "1059107     2012年第４四半期\n",
       "               ...    \n",
       "47006436    2018年第３四半期\n",
       "47016923    2014年第４四半期\n",
       "47027429    2009年第４四半期\n",
       "47001601    2018年第４四半期\n",
       "47003572    2017年第２四半期\n",
       "Name: 取引時点, Length: 637351, dtype: object"
      ]
     },
     "execution_count": 23,
     "metadata": {},
     "output_type": "execute_result"
    }
   ],
   "source": [
    "df['取引時点']"
   ]
  },
  {
   "cell_type": "code",
   "execution_count": 24,
   "id": "aa273876-e51f-4c58-ade9-dff981eefee4",
   "metadata": {},
   "outputs": [
    {
     "data": {
      "text/plain": [
       "'2009年0.75'"
      ]
     },
     "execution_count": 24,
     "metadata": {},
     "output_type": "execute_result"
    }
   ],
   "source": [
    "df['取引時点']\n",
    "'2009年第４四半期'.replace('第４四半期','0.75')"
   ]
  },
  {
   "cell_type": "code",
   "execution_count": 25,
   "id": "f2b7ef2e-46e2-4d9c-a5f3-d414b9adee35",
   "metadata": {},
   "outputs": [],
   "source": [
    "year={\n",
    "    '年第１四半期':'.25',\n",
    "    '年第２四半期':'.50',\n",
    "    '年第３四半期':'.75',\n",
    "    '年第４四半期':'.99',\n",
    "}"
   ]
  },
  {
   "cell_type": "code",
   "execution_count": 26,
   "id": "8c94a97a-1062-4a6d-863d-005eb3e19af6",
   "metadata": {},
   "outputs": [
    {
     "data": {
      "text/plain": [
       "Index(['2014年第１四半期', '2017年第１四半期', '2015年第１四半期', '2013年第１四半期', '2013年第２四半期',\n",
       "       '2018年第１四半期', '2016年第１四半期', '2019年第２四半期', '2016年第２四半期', '2019年第１四半期',\n",
       "       '2010年第４四半期', '2019年第３四半期', '2015年第２四半期', '2018年第４四半期', '2011年第１四半期',\n",
       "       '2017年第４四半期', '2015年第４四半期', '2018年第２四半期', '2015年第３四半期', '2016年第３四半期',\n",
       "       '2017年第３四半期', '2010年第３四半期', '2013年第４四半期', '2016年第４四半期', '2014年第４四半期',\n",
       "       '2013年第３四半期', '2019年第４四半期', '2018年第３四半期', '2010年第１四半期', '2017年第２四半期',\n",
       "       '2012年第４四半期', '2012年第１四半期', '2014年第３四半期', '2010年第２四半期', '2014年第２四半期',\n",
       "       '2009年第４四半期', '2012年第２四半期', '2009年第３四半期', '2012年第３四半期', '2011年第４四半期',\n",
       "       '2009年第２四半期', '2011年第３四半期', '2009年第１四半期', '2011年第２四半期', '2008年第３四半期',\n",
       "       '2008年第４四半期', '2008年第２四半期', '2008年第１四半期', '2007年第４四半期', '2007年第２四半期',\n",
       "       '2007年第３四半期', '2007年第１四半期', '2006年第４四半期', '2006年第３四半期', '2006年第２四半期',\n",
       "       '2006年第１四半期', '2005年第４四半期', '2005年第３四半期'],\n",
       "      dtype='object')"
      ]
     },
     "execution_count": 26,
     "metadata": {},
     "output_type": "execute_result"
    }
   ],
   "source": [
    "df['取引時点'].value_counts().keys()\n"
   ]
  },
  {
   "cell_type": "code",
   "execution_count": 27,
   "id": "31d1c1c8-ca38-473f-b99e-e570ef5095c0",
   "metadata": {},
   "outputs": [],
   "source": [
    "year_list={}\n",
    "\n",
    "for i in df[\"取引時点\"].value_counts().keys():\n",
    "    for k,j in year.items():\n",
    "        if k in i:\n",
    "            year_rep=i.replace(k,j)\n",
    "    year_list[i]=year_rep\n",
    "df['取引時点']=df['取引時点'].replace(year_list).astype(float)     "
   ]
  },
  {
   "cell_type": "code",
   "execution_count": 28,
   "id": "7451b194-4036-4c22-84d7-5236f4fadcce",
   "metadata": {},
   "outputs": [
    {
     "data": {
      "image/png": "[encoded data removed]",
      "text/plain": [
       "<Figure size 1440x720 with 4 Axes>"
      ]
     },
     "metadata": {
      "needs_background": "light"
     },
     "output_type": "display_data"
    }
   ],
   "source": [
    "fig,axes=plt.subplots(2,2,figsize=(20,10))\n",
    "axes[0][0].hist(df['最寄駅：距離（分）'],bins=20)\n",
    "axes[0][1].hist(df['面積（㎡）'],bins=200)\n",
    "axes[0][1].set_xlim(0,250)\n",
    "axes[1][0].hist(df['建築年'],bins=20)\n",
    "axes[1][1].hist(df['取引価格（総額）_log'],bins=20)\n",
    "plt.show()"
   ]
  },
  {
   "cell_type": "code",
   "execution_count": 29,
   "id": "dc880ade-98c8-4c19-bbd6-4203f9461576",
   "metadata": {},
   "outputs": [
    {
     "data": {
      "image/png": "[encoded data removed]",
      "text/plain": [
       "<Figure size 720x720 with 3 Axes>"
      ]
     },
     "metadata": {
      "needs_background": "light"
     },
     "output_type": "display_data"
    }
   ],
   "source": [
    "fig,axes=plt.subplots(3,1,figsize=(10,10))\n",
    "axes[0].scatter(df['最寄駅：距離（分）'],df['取引価格（総額）_log'],alpha=0.1)\n",
    "axes[1].scatter(df['面積（㎡）'],df['取引価格（総額）_log'],alpha=0.1)\n",
    "axes[2].scatter(df['建築年'],df['取引価格（総額）_log'],alpha=0.1)\n",
    "plt.show()\n",
    "\n",
    "\n"
   ]
  },
  {
   "cell_type": "code",
   "execution_count": 30,
   "id": "df9c6dba-21e4-4564-ae23-283ede4ca70c",
   "metadata": {},
   "outputs": [
    {
     "data": {
      "text/html": [
       "<div>\n",
       "<style scoped>\n",
       "    .dataframe tbody tr th:only-of-type {\n",
       "        vertical-align: middle;\n",
       "    }\n",
       "\n",
       "    .dataframe tbody tr th {\n",
       "        vertical-align: top;\n",
       "    }\n",
       "\n",
       "    .dataframe thead th {\n",
       "        text-align: right;\n",
       "    }\n",
       "</style>\n",
       "<table border=\"1\" class=\"dataframe\">\n",
       "  <thead>\n",
       "    <tr style=\"text-align: right;\">\n",
       "      <th></th>\n",
       "      <th>取引価格（総額）_log</th>\n",
       "      <th>最寄駅：距離（分）</th>\n",
       "      <th>面積（㎡）</th>\n",
       "      <th>建築年</th>\n",
       "    </tr>\n",
       "  </thead>\n",
       "  <tbody>\n",
       "    <tr>\n",
       "      <th>取引価格（総額）_log</th>\n",
       "      <td>1.000000</td>\n",
       "      <td>-0.215520</td>\n",
       "      <td>0.382755</td>\n",
       "      <td>-0.538493</td>\n",
       "    </tr>\n",
       "    <tr>\n",
       "      <th>最寄駅：距離（分）</th>\n",
       "      <td>-0.215520</td>\n",
       "      <td>1.000000</td>\n",
       "      <td>0.151880</td>\n",
       "      <td>0.117809</td>\n",
       "    </tr>\n",
       "    <tr>\n",
       "      <th>面積（㎡）</th>\n",
       "      <td>0.382755</td>\n",
       "      <td>0.151880</td>\n",
       "      <td>1.000000</td>\n",
       "      <td>-0.067415</td>\n",
       "    </tr>\n",
       "    <tr>\n",
       "      <th>建築年</th>\n",
       "      <td>-0.538493</td>\n",
       "      <td>0.117809</td>\n",
       "      <td>-0.067415</td>\n",
       "      <td>1.000000</td>\n",
       "    </tr>\n",
       "  </tbody>\n",
       "</table>\n",
       "</div>"
      ],
      "text/plain": [
       "              取引価格（総額）_log  最寄駅：距離（分）     面積（㎡）       建築年\n",
       "取引価格（総額）_log      1.000000  -0.215520  0.382755 -0.538493\n",
       "最寄駅：距離（分）        -0.215520   1.000000  0.151880  0.117809\n",
       "面積（㎡）             0.382755   0.151880  1.000000 -0.067415\n",
       "建築年              -0.538493   0.117809 -0.067415  1.000000"
      ]
     },
     "execution_count": 30,
     "metadata": {},
     "output_type": "execute_result"
    }
   ],
   "source": [
    "df[['取引価格（総額）_log','最寄駅：距離（分）','面積（㎡）','建築年']].corr()\n",
    "\n",
    "\n"
   ]
  },
  {
   "cell_type": "code",
   "execution_count": 31,
   "id": "11a6c79a-8967-4222-9c0a-f631825dded9",
   "metadata": {},
   "outputs": [
    {
     "data": {
      "text/plain": [
       "<AxesSubplot:>"
      ]
     },
     "execution_count": 31,
     "metadata": {},
     "output_type": "execute_result"
    },
    {
     "data": {
      "image/png": "[encoded data removed]",
      "text/plain": [
       "<Figure size 432x288 with 2 Axes>"
      ]
     },
     "metadata": {
      "needs_background": "light"
     },
     "output_type": "display_data"
    }
   ],
   "source": [
    "import matplotlib\n",
    "matplotlib.rcParams[\"font.family\"]=\"MS Gothic\"\n",
    "sns.heatmap(df[['取引価格（総額）_log','最寄駅：距離（分）','面積（㎡）','建築年']].corr())\n"
   ]
  },
  {
   "cell_type": "code",
   "execution_count": null,
   "id": "66b13048-f3c6-4112-ab94-dbe678e6a00e",
   "metadata": {},
   "outputs": [],
   "source": []
  }
 ],
 "metadata": {
  "kernelspec": {
   "display_name": "Python 3 (ipykernel)",
   "language": "python",
   "name": "python3"
  },
  "language_info": {
   "codemirror_mode": {
    "name": "ipython",
    "version": 3
   },
   "file_extension": ".py",
   "mimetype": "text/x-python",
   "name": "python",
   "nbconvert_exporter": "python",
   "pygments_lexer": "ipython3",
   "version": "3.8.12"
  }
 },
 "nbformat": 4,
 "nbformat_minor": 5
}
