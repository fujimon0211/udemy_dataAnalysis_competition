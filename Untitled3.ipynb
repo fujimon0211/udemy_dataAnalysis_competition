{
 "cells": [
  {
   "cell_type": "code",
   "execution_count": 1,
   "id": "e89617bb-96e2-4122-8780-cb05c319c569",
   "metadata": {},
   "outputs": [],
   "source": [
    "import glob\n",
    "import pandas as pd\n",
    "import numpy as np\n",
    "import matplotlib.pyplot as plt\n",
    "import seaborn as sns\n",
    "import test_func as tf\n",
    "%matplotlib inline"
   ]
  },
  {
   "cell_type": "code",
   "execution_count": 2,
   "id": "22cc720b-8133-434d-8438-d844d0a5c405",
   "metadata": {},
   "outputs": [
    {
     "name": "stderr",
     "output_type": "stream",
     "text": [
      "C:\\Users\\fujir\\AppData\\Local\\Temp\\ipykernel_13252\\759100116.py:5: DtypeWarning: Columns (10) have mixed types. Specify dtype option on import or set low_memory=False.\n",
      "  data_list.append(pd.read_csv(file,index_col=0))\n",
      "C:\\Users\\fujir\\AppData\\Local\\Temp\\ipykernel_13252\\759100116.py:5: DtypeWarning: Columns (10) have mixed types. Specify dtype option on import or set low_memory=False.\n",
      "  data_list.append(pd.read_csv(file,index_col=0))\n"
     ]
    }
   ],
   "source": [
    "files=glob.glob(\"train/*.csv\")\n",
    "data_list=[]\n",
    "\n",
    "for file in files:\n",
    "    data_list.append(pd.read_csv(file,index_col=0))\n",
    "df=pd.concat(data_list)    "
   ]
  },
  {
   "cell_type": "code",
   "execution_count": 3,
   "id": "34d59a1f-81e6-44b8-ba35-17326007c595",
   "metadata": {},
   "outputs": [
    {
     "name": "stdout",
     "output_type": "stream",
     "text": [
      "<class 'pandas.core.frame.DataFrame'>\n",
      "Int64Index: 637351 entries, 1060685 to 47003572\n",
      "Data columns (total 27 columns):\n",
      " #   Column        Non-Null Count   Dtype  \n",
      "---  ------        --------------   -----  \n",
      " 0   種類            637351 non-null  object \n",
      " 1   地域            0 non-null       float64\n",
      " 2   市区町村コード       637351 non-null  int64  \n",
      " 3   都道府県名         637351 non-null  object \n",
      " 4   市区町村名         637351 non-null  object \n",
      " 5   地区名           637060 non-null  object \n",
      " 6   最寄駅：名称        634732 non-null  object \n",
      " 7   最寄駅：距離（分）     614306 non-null  object \n",
      " 8   間取り           615609 non-null  object \n",
      " 9   面積（㎡）         637351 non-null  object \n",
      " 10  土地の形状         0 non-null       float64\n",
      " 11  間口            0 non-null       float64\n",
      " 12  延床面積（㎡）       0 non-null       float64\n",
      " 13  建築年           619117 non-null  object \n",
      " 14  建物の構造         623423 non-null  object \n",
      " 15  用途            591214 non-null  object \n",
      " 16  今後の利用目的       275091 non-null  object \n",
      " 17  前面道路：方位       0 non-null       float64\n",
      " 18  前面道路：種類       0 non-null       float64\n",
      " 19  前面道路：幅員（ｍ）    0 non-null       float64\n",
      " 20  都市計画          618786 non-null  object \n",
      " 21  建ぺい率（％）       614848 non-null  float64\n",
      " 22  容積率（％）        614848 non-null  float64\n",
      " 23  取引時点          637351 non-null  object \n",
      " 24  改装            580431 non-null  object \n",
      " 25  取引の事情等        18275 non-null   object \n",
      " 26  取引価格（総額）_log  637351 non-null  float64\n",
      "dtypes: float64(10), int64(1), object(16)\n",
      "memory usage: 136.2+ MB\n"
     ]
    }
   ],
   "source": [
    "df.info()"
   ]
  },
  {
   "cell_type": "code",
   "execution_count": 4,
   "id": "3c919b0b-cb1a-4ea6-87d7-a36df0dacbfb",
   "metadata": {},
   "outputs": [],
   "source": [
    "nonnull_list=[]\n",
    "\n",
    "for col in df.columns:\n",
    "    nonull=df[col].count()\n",
    "    if nonull==0:\n",
    "        nonnull_list.append(col)"
   ]
  },
  {
   "cell_type": "code",
   "execution_count": 5,
   "id": "7dd8bde5-0cd2-4c80-bd06-18da1880dd3b",
   "metadata": {},
   "outputs": [
    {
     "data": {
      "text/plain": [
       "['地域', '土地の形状', '間口', '延床面積（㎡）', '前面道路：方位', '前面道路：種類', '前面道路：幅員（ｍ）']"
      ]
     },
     "execution_count": 5,
     "metadata": {},
     "output_type": "execute_result"
    }
   ],
   "source": [
    "nonnull_list"
   ]
  },
  {
   "cell_type": "code",
   "execution_count": 6,
   "id": "5f5b475f-e4cf-49e5-b7a0-677e8382d736",
   "metadata": {},
   "outputs": [],
   "source": [
    "df=df.drop(nonnull_list,axis=1)"
   ]
  },
  {
   "cell_type": "code",
   "execution_count": 7,
   "id": "a31153e7-caab-4559-9445-689aece54b1d",
   "metadata": {},
   "outputs": [],
   "source": [
    "df=df.drop(['種類'],axis=1)"
   ]
  },
  {
   "cell_type": "code",
   "execution_count": 8,
   "id": "d738789b-7a6d-49e7-82a7-ac0db48d6392",
   "metadata": {},
   "outputs": [],
   "source": [
    "df=df.drop(['市区町村名'],axis=1)"
   ]
  },
  {
   "cell_type": "code",
   "execution_count": 9,
   "id": "cbffc44f-9c33-45fb-89d5-c6b876eb0447",
   "metadata": {},
   "outputs": [
    {
     "data": {
      "text/plain": [
       "6          50928\n",
       "4          48883\n",
       "5          45337\n",
       "8          44277\n",
       "3          42880\n",
       "9          38379\n",
       "7          32369\n",
       "30分?60分    31999\n",
       "10         31572\n",
       "11         30625\n",
       "2          27100\n",
       "13         22934\n",
       "1          19746\n",
       "14         18759\n",
       "15         18552\n",
       "12         15068\n",
       "16         14354\n",
       "18         11651\n",
       "19         10533\n",
       "20          8910\n",
       "21          7163\n",
       "23          6663\n",
       "25          6169\n",
       "24          4884\n",
       "28          4133\n",
       "26          3996\n",
       "0           3704\n",
       "1H?1H30     3624\n",
       "29          3587\n",
       "17          2515\n",
       "22          1082\n",
       "2H?          826\n",
       "1H30?2H      692\n",
       "27           412\n",
       "Name: 最寄駅：距離（分）, dtype: int64"
      ]
     },
     "execution_count": 9,
     "metadata": {},
     "output_type": "execute_result"
    }
   ],
   "source": [
    "df['最寄駅：距離（分）'].value_counts()"
   ]
  },
  {
   "cell_type": "code",
   "execution_count": 10,
   "id": "ec9eae03-cc03-4796-9d62-32d6fde774ea",
   "metadata": {},
   "outputs": [],
   "source": [
    "dis={\n",
    "'30分?60分':45,\n",
    "'1H?1H30':75,\n",
    "'1H30?2H':105,\n",
    "'2H?':120    \n",
    "}"
   ]
  },
  {
   "cell_type": "code",
   "execution_count": 11,
   "id": "2ccb6e8e-4fd2-49f5-a671-e2dfdf82881e",
   "metadata": {},
   "outputs": [],
   "source": [
    "df['最寄駅：距離（分）']=df['最寄駅：距離（分）'].replace(dis).astype(float)"
   ]
  },
  {
   "cell_type": "code",
   "execution_count": 12,
   "id": "cfa66afd-998a-4c99-949c-38b3fd9b9133",
   "metadata": {},
   "outputs": [
    {
     "data": {
      "text/plain": [
       "70         70301\n",
       "65         65176\n",
       "60         51968\n",
       "75         47362\n",
       "20         40770\n",
       "55         39149\n",
       "80         32482\n",
       "50         27629\n",
       "15         25113\n",
       "85         19604\n",
       "25         18841\n",
       "45         17514\n",
       "70         13142\n",
       "65         13113\n",
       "90         12485\n",
       "40         12221\n",
       "60         11289\n",
       "20         11258\n",
       "30          9880\n",
       "35          9482\n",
       "75          9282\n",
       "95          9121\n",
       "55          8035\n",
       "80          7090\n",
       "15          5740\n",
       "25          5654\n",
       "50          5448\n",
       "85          4530\n",
       "100         4501\n",
       "45          3147\n",
       "90          2889\n",
       "40          2785\n",
       "105         2594\n",
       "30          2548\n",
       "35          2174\n",
       "95          1887\n",
       "110         1625\n",
       "115         1176\n",
       "10          1003\n",
       "100          925\n",
       "120          806\n",
       "105          581\n",
       "125          562\n",
       "130          405\n",
       "110          394\n",
       "10           310\n",
       "115          308\n",
       "135          300\n",
       "145          215\n",
       "140          203\n",
       "120          193\n",
       "125          162\n",
       "150          145\n",
       "130          141\n",
       "155          131\n",
       "135           98\n",
       "160           91\n",
       "165           79\n",
       "180           77\n",
       "140           73\n",
       "145           72\n",
       "170           71\n",
       "190           54\n",
       "185           53\n",
       "150           44\n",
       "175           44\n",
       "210           43\n",
       "230           42\n",
       "200           39\n",
       "160           38\n",
       "195           36\n",
       "155           36\n",
       "220           30\n",
       "170           27\n",
       "180           27\n",
       "250           22\n",
       "240           22\n",
       "260           21\n",
       "270           20\n",
       "290           16\n",
       "185           16\n",
       "190           15\n",
       "165           14\n",
       "210           12\n",
       "175           12\n",
       "340           11\n",
       "330           10\n",
       "390            9\n",
       "200            8\n",
       "310            8\n",
       "370            8\n",
       "195            8\n",
       "320            7\n",
       "350            7\n",
       "280            7\n",
       "360            7\n",
       "440            7\n",
       "450            7\n",
       "480            7\n",
       "2000㎡以上        7\n",
       "1000           6\n",
       "460            6\n",
       "220            6\n",
       "320            5\n",
       "290            5\n",
       "300            5\n",
       "500            5\n",
       "310            4\n",
       "380            4\n",
       "760            4\n",
       "680            4\n",
       "250            4\n",
       "690            3\n",
       "860            3\n",
       "470            3\n",
       "700            3\n",
       "490            3\n",
       "650            3\n",
       "410            3\n",
       "270            3\n",
       "630            3\n",
       "590            3\n",
       "730            3\n",
       "230            3\n",
       "360            3\n",
       "260            3\n",
       "300            3\n",
       "710            3\n",
       "970            3\n",
       "1200           2\n",
       "1300           2\n",
       "770            2\n",
       "340            2\n",
       "1100           2\n",
       "660            2\n",
       "560            2\n",
       "650            2\n",
       "590            2\n",
       "410            2\n",
       "240            2\n",
       "510            2\n",
       "470            2\n",
       "670            2\n",
       "400            2\n",
       "450            2\n",
       "580            2\n",
       "430            2\n",
       "600            2\n",
       "390            2\n",
       "420            2\n",
       "520            2\n",
       "520            2\n",
       "620            2\n",
       "400            2\n",
       "1500           1\n",
       "490            1\n",
       "560            1\n",
       "350            1\n",
       "370            1\n",
       "760            1\n",
       "1400           1\n",
       "730            1\n",
       "440            1\n",
       "330            1\n",
       "500            1\n",
       "740            1\n",
       "480            1\n",
       "830            1\n",
       "710            1\n",
       "980            1\n",
       "820            1\n",
       "900            1\n",
       "660            1\n",
       "830            1\n",
       "510            1\n",
       "720            1\n",
       "820            1\n",
       "890            1\n",
       "630            1\n",
       "550            1\n",
       "540            1\n",
       "960            1\n",
       "740            1\n",
       "940            1\n",
       "900            1\n",
       "780            1\n",
       "1500           1\n",
       "280            1\n",
       "790            1\n",
       "610            1\n",
       "990            1\n",
       "780            1\n",
       "530            1\n",
       "800            1\n",
       "570            1\n",
       "Name: 面積（㎡）, dtype: int64"
      ]
     },
     "execution_count": 12,
     "metadata": {},
     "output_type": "execute_result"
    }
   ],
   "source": [
    "pd.options.display.max_rows=None\n",
    "df['面積（㎡）'].value_counts()"
   ]
  },
  {
   "cell_type": "code",
   "execution_count": 13,
   "id": "babd5ed0-7216-44ab-bbeb-ef3e76b81200",
   "metadata": {},
   "outputs": [],
   "source": [
    "df['面積（㎡）']=df['面積（㎡）'].replace({'2000㎡以上':2000}).astype(float)"
   ]
  },
  {
   "cell_type": "code",
   "execution_count": 14,
   "id": "8616aa1d-d2fd-4aa7-b6bb-80b27085ac11",
   "metadata": {},
   "outputs": [
    {
     "data": {
      "text/plain": [
       "'20'"
      ]
     },
     "execution_count": 14,
     "metadata": {},
     "output_type": "execute_result"
    }
   ],
   "source": [
    "df['建築年'].value_counts().keys()[1].split('平成')[1].split('年')[0]"
   ]
  },
  {
   "cell_type": "code",
   "execution_count": 15,
   "id": "19729692-ccbf-46c4-bec8-3edaa6e55aad",
   "metadata": {},
   "outputs": [],
   "source": [
    "year_rep={}\n",
    "\n",
    "for i in df['建築年'].value_counts().keys():\n",
    "    if '平成' in i:\n",
    "        num=float(i.split('平成')[1].split('年')[0])\n",
    "        year=33-num\n",
    "    if '昭和' in i:\n",
    "        num=float(i.split('昭和')[1].split('年')[0])\n",
    "        year=96-num    \n",
    "    if '令和' in i:\n",
    "        num=float(i.split('令和')[1].split('年')[0])\n",
    "        year=3-num \n",
    "    year_rep[i]=year\n",
    "    year_rep['戦前']=76\n",
    "df['建築年']=df['建築年'].replace(year_rep).astype(float) \n",
    "        "
   ]
  },
  {
   "cell_type": "code",
   "execution_count": 16,
   "id": "a659b315-c2e9-48e1-90e1-05c1c050b816",
   "metadata": {},
   "outputs": [
    {
     "data": {
      "text/plain": [
       "30.0    21982\n",
       "13.0    21947\n",
       "15.0    21719\n",
       "14.0    21398\n",
       "23.0    20749\n",
       "18.0    20732\n",
       "21.0    20551\n",
       "16.0    20465\n",
       "26.0    20426\n",
       "31.0    19921\n",
       "25.0    19534\n",
       "19.0    19468\n",
       "24.0    18887\n",
       "20.0    18749\n",
       "22.0    18570\n",
       "17.0    18359\n",
       "32.0    16886\n",
       "29.0    16114\n",
       "33.0    16009\n",
       "12.0    15380\n",
       "27.0    14287\n",
       "34.0    13899\n",
       "37.0    13736\n",
       "36.0    13244\n",
       "35.0    12658\n",
       "47.0    11660\n",
       "28.0    10759\n",
       "11.0     9814\n",
       "42.0     8801\n",
       "39.0     8710\n",
       "41.0     8566\n",
       "40.0     8224\n",
       "9.0      7813\n",
       "10.0     7466\n",
       "48.0     7347\n",
       "38.0     7004\n",
       "43.0     6808\n",
       "8.0      6530\n",
       "46.0     6427\n",
       "44.0     5519\n",
       "7.0      5353\n",
       "45.0     5203\n",
       "49.0     4833\n",
       "6.0      4616\n",
       "50.0     4297\n",
       "51.0     3669\n",
       "5.0      3138\n",
       "52.0     2197\n",
       "53.0     2064\n",
       "4.0      2012\n",
       "3.0      1272\n",
       "54.0      876\n",
       "2.0       712\n",
       "55.0      590\n",
       "76.0      556\n",
       "56.0      197\n",
       "57.0      147\n",
       "58.0       48\n",
       "1.0        32\n",
       "59.0       29\n",
       "62.0       21\n",
       "74.0       21\n",
       "60.0       17\n",
       "75.0       16\n",
       "63.0       12\n",
       "68.0       11\n",
       "71.0       11\n",
       "61.0       10\n",
       "72.0        7\n",
       "67.0        7\n",
       "69.0        6\n",
       "65.0        5\n",
       "73.0        5\n",
       "70.0        4\n",
       "64.0        3\n",
       "66.0        2\n",
       "Name: 建築年, dtype: int64"
      ]
     },
     "execution_count": 16,
     "metadata": {},
     "output_type": "execute_result"
    }
   ],
   "source": [
    "df['建築年'].value_counts()\n"
   ]
  },
  {
   "cell_type": "code",
   "execution_count": 17,
   "id": "7fa14e56-efb1-432e-a59b-a38a5865cecc",
   "metadata": {},
   "outputs": [
    {
     "data": {
      "text/plain": [
       "Index(['2014年第１四半期', '2017年第１四半期', '2015年第１四半期', '2013年第１四半期', '2013年第２四半期',\n",
       "       '2018年第１四半期', '2016年第１四半期', '2019年第２四半期', '2016年第２四半期', '2019年第１四半期',\n",
       "       '2010年第４四半期', '2019年第３四半期', '2015年第２四半期', '2018年第４四半期', '2011年第１四半期',\n",
       "       '2017年第４四半期', '2015年第４四半期', '2018年第２四半期', '2015年第３四半期', '2016年第３四半期',\n",
       "       '2017年第３四半期', '2010年第３四半期', '2013年第４四半期', '2016年第４四半期', '2014年第４四半期',\n",
       "       '2013年第３四半期', '2019年第４四半期', '2018年第３四半期', '2010年第１四半期', '2017年第２四半期',\n",
       "       '2012年第４四半期', '2012年第１四半期', '2014年第３四半期', '2010年第２四半期', '2014年第２四半期',\n",
       "       '2009年第４四半期', '2012年第２四半期', '2009年第３四半期', '2012年第３四半期', '2011年第４四半期',\n",
       "       '2009年第２四半期', '2011年第３四半期', '2009年第１四半期', '2011年第２四半期', '2008年第３四半期',\n",
       "       '2008年第４四半期', '2008年第２四半期', '2008年第１四半期', '2007年第４四半期', '2007年第２四半期',\n",
       "       '2007年第３四半期', '2007年第１四半期', '2006年第４四半期', '2006年第３四半期', '2006年第２四半期',\n",
       "       '2006年第１四半期', '2005年第４四半期', '2005年第３四半期'],\n",
       "      dtype='object')"
      ]
     },
     "execution_count": 17,
     "metadata": {},
     "output_type": "execute_result"
    }
   ],
   "source": [
    "df['取引時点'].value_counts().keys()"
   ]
  },
  {
   "cell_type": "code",
   "execution_count": 18,
   "id": "cb0765b9-3bd6-4d6c-bbf1-f2364329d26f",
   "metadata": {},
   "outputs": [],
   "source": [
    "year={\n",
    "'年第１四半期':'.25',\n",
    "'年第２四半期':'.50',\n",
    "'年第３四半期':'.75',\n",
    "'年第４四半期':'.99'\n",
    "\n",
    "}"
   ]
  },
  {
   "cell_type": "code",
   "execution_count": 21,
   "id": "2ae28688-e4e8-4d14-b16b-1bd7c0f60552",
   "metadata": {},
   "outputs": [],
   "source": [
    "year_list={}\n",
    "\n",
    "for i in df['取引時点'].value_counts().keys():\n",
    "    for k,j in year.items():\n",
    "        if k in i:\n",
    "            year_rep=i.replace(k,j)\n",
    "    year_list[i]=year_rep\n",
    "    \n",
    "df['取引時点']=df['取引時点'].replace(year_list).astype(float)    "
   ]
  },
  {
   "cell_type": "code",
   "execution_count": null,
   "id": "d1b4b058-9356-42e9-aa7f-e667c6018252",
   "metadata": {},
   "outputs": [],
   "source": [
    "fig,axes=plt.subplots(2,2,figsize=(12,20))\n",
    "\n",
    "axes[0][0].hist(df['建築年'],bins=20)\n",
    "axes[0][1].hist(df['面積（㎡）'],bins=200)\n",
    "axes[1][0].hist(df['最寄駅：距離（分）'],bins=20)\n",
    "axes[1][1].hist(df['取引価格（総額）_log'],bins=20)"
   ]
  },
  {
   "cell_type": "code",
   "execution_count": null,
   "id": "31db8063-8d3a-403f-84e7-6caefbcf9aa0",
   "metadata": {},
   "outputs": [],
   "source": [
    "fig,axes=plt.subplots(3,1,figsize=(10,10))\n",
    "\n",
    "axes[0].scatter(df['建築年'],df['取引価格（総額）_log'],alpha=0.1)\n",
    "axes[1].scatter(df['面積（㎡）'],df['取引価格（総額）_log'],alpha=0.1)\n",
    "axes[2].scatter(df['最寄駅：距離（分）'],df['取引価格（総額）_log'],alpha=0.1)\n"
   ]
  },
  {
   "cell_type": "code",
   "execution_count": null,
   "id": "0c714c10-f98c-4552-9d91-e91c331f5800",
   "metadata": {},
   "outputs": [],
   "source": [
    "df[['建築年','面積（㎡）','最寄駅：距離（分）','取引価格（総額）_log']].corr()"
   ]
  },
  {
   "cell_type": "code",
   "execution_count": null,
   "id": "7f608dce-a1f0-4139-8c47-1b8822ab97ff",
   "metadata": {},
   "outputs": [],
   "source": []
  }
 ],
 "metadata": {
  "kernelspec": {
   "display_name": "Python 3",
   "language": "python",
   "name": "python3"
  },
  "language_info": {
   "codemirror_mode": {
    "name": "ipython",
    "version": 3
   },
   "file_extension": ".py",
   "mimetype": "text/x-python",
   "name": "python",
   "nbconvert_exporter": "python",
   "pygments_lexer": "ipython3",
   "version": "3.8.8"
  }
 },
 "nbformat": 4,
 "nbformat_minor": 5
}
