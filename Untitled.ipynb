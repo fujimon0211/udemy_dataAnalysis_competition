{
 "cells": [
  {
   "cell_type": "code",
   "execution_count": 1,
   "id": "c1e321c4-0684-4944-a298-555c4f78b389",
   "metadata": {},
   "outputs": [],
   "source": [
    "import glob\n",
    "import pandas as pd\n",
    "import numpy as np\n",
    "import matplotlib.pyplot as plt\n",
    "import seaborn as sns\n",
    "import test_func as tf\n",
    "%matplotlib inline"
   ]
  },
  {
   "cell_type": "code",
   "execution_count": 2,
   "id": "a23e916c-6eac-46cf-835b-fec5c373e17d",
   "metadata": {},
   "outputs": [
    {
     "name": "stderr",
     "output_type": "stream",
     "text": [
      "C:\\Users\\fujir\\anaconda3\\lib\\site-packages\\IPython\\core\\interactiveshell.py:3165: DtypeWarning: Columns (10) have mixed types.Specify dtype option on import or set low_memory=False.\n",
      "  has_raised = await self.run_ast_nodes(code_ast.body, cell_name,\n"
     ]
    }
   ],
   "source": [
    "files=glob.glob('train/*.csv')\n",
    "file_list=[]\n",
    "for file in files:\n",
    "    file_list.append(pd.read_csv(file,index_col=0))\n",
    "df=pd.concat(file_list)"
   ]
  },
  {
   "cell_type": "code",
   "execution_count": 3,
   "id": "fc6964c8-60ae-4585-a250-273a3e6b1bc1",
   "metadata": {},
   "outputs": [
    {
     "name": "stdout",
     "output_type": "stream",
     "text": [
      "<class 'pandas.core.frame.DataFrame'>\n",
      "Int64Index: 637351 entries, 1060685 to 47003572\n",
      "Data columns (total 27 columns):\n",
      " #   Column        Non-Null Count   Dtype  \n",
      "---  ------        --------------   -----  \n",
      " 0   種類            637351 non-null  object \n",
      " 1   地域            0 non-null       float64\n",
      " 2   市区町村コード       637351 non-null  int64  \n",
      " 3   都道府県名         637351 non-null  object \n",
      " 4   市区町村名         637351 non-null  object \n",
      " 5   地区名           637060 non-null  object \n",
      " 6   最寄駅：名称        634732 non-null  object \n",
      " 7   最寄駅：距離（分）     614306 non-null  object \n",
      " 8   間取り           615609 non-null  object \n",
      " 9   面積（㎡）         637351 non-null  object \n",
      " 10  土地の形状         0 non-null       float64\n",
      " 11  間口            0 non-null       float64\n",
      " 12  延床面積（㎡）       0 non-null       float64\n",
      " 13  建築年           619117 non-null  object \n",
      " 14  建物の構造         623423 non-null  object \n",
      " 15  用途            591214 non-null  object \n",
      " 16  今後の利用目的       275091 non-null  object \n",
      " 17  前面道路：方位       0 non-null       float64\n",
      " 18  前面道路：種類       0 non-null       float64\n",
      " 19  前面道路：幅員（ｍ）    0 non-null       float64\n",
      " 20  都市計画          618786 non-null  object \n",
      " 21  建ぺい率（％）       614848 non-null  float64\n",
      " 22  容積率（％）        614848 non-null  float64\n",
      " 23  取引時点          637351 non-null  object \n",
      " 24  改装            580431 non-null  object \n",
      " 25  取引の事情等        18275 non-null   object \n",
      " 26  取引価格（総額）_log  637351 non-null  float64\n",
      "dtypes: float64(10), int64(1), object(16)\n",
      "memory usage: 136.2+ MB\n"
     ]
    }
   ],
   "source": [
    "df.info()"
   ]
  },
  {
   "cell_type": "code",
   "execution_count": 4,
   "id": "38769232-bc37-4222-93e9-d9ab59c61a1d",
   "metadata": {},
   "outputs": [],
   "source": [
    "df=df.drop(['種類'],axis=1)\n",
    "df=df.drop(['市区町村名'],axis=1)"
   ]
  },
  {
   "cell_type": "code",
   "execution_count": 5,
   "id": "b54192df-4726-42a4-a9f5-41ff789ce67f",
   "metadata": {},
   "outputs": [
    {
     "data": {
      "text/plain": [
       "['地域', '土地の形状', '間口', '延床面積（㎡）', '前面道路：方位', '前面道路：種類', '前面道路：幅員（ｍ）']"
      ]
     },
     "execution_count": 5,
     "metadata": {},
     "output_type": "execute_result"
    }
   ],
   "source": [
    "nonnull_list=[]\n",
    "columns_list=df.columns\n",
    "\n",
    "for i in columns_list:\n",
    "    null_counter=df[i].count()\n",
    "    if null_counter==0:\n",
    "        nonnull_list.append(i)\n",
    "        \n",
    "nonnull_list       "
   ]
  },
  {
   "cell_type": "code",
   "execution_count": 6,
   "id": "fc0f9b16-38e1-4115-91ce-580983556499",
   "metadata": {},
   "outputs": [],
   "source": [
    "df=df.drop(nonnull_list,axis=1)"
   ]
  },
  {
   "cell_type": "code",
   "execution_count": 7,
   "id": "7d06b337-8222-4e15-b812-97389bbc9e7d",
   "metadata": {},
   "outputs": [
    {
     "name": "stdout",
     "output_type": "stream",
     "text": [
      "<class 'pandas.core.frame.DataFrame'>\n",
      "Int64Index: 637351 entries, 1060685 to 47003572\n",
      "Data columns (total 18 columns):\n",
      " #   Column        Non-Null Count   Dtype  \n",
      "---  ------        --------------   -----  \n",
      " 0   市区町村コード       637351 non-null  int64  \n",
      " 1   都道府県名         637351 non-null  object \n",
      " 2   地区名           637060 non-null  object \n",
      " 3   最寄駅：名称        634732 non-null  object \n",
      " 4   最寄駅：距離（分）     614306 non-null  object \n",
      " 5   間取り           615609 non-null  object \n",
      " 6   面積（㎡）         637351 non-null  object \n",
      " 7   建築年           619117 non-null  object \n",
      " 8   建物の構造         623423 non-null  object \n",
      " 9   用途            591214 non-null  object \n",
      " 10  今後の利用目的       275091 non-null  object \n",
      " 11  都市計画          618786 non-null  object \n",
      " 12  建ぺい率（％）       614848 non-null  float64\n",
      " 13  容積率（％）        614848 non-null  float64\n",
      " 14  取引時点          637351 non-null  object \n",
      " 15  改装            580431 non-null  object \n",
      " 16  取引の事情等        18275 non-null   object \n",
      " 17  取引価格（総額）_log  637351 non-null  float64\n",
      "dtypes: float64(3), int64(1), object(14)\n",
      "memory usage: 92.4+ MB\n"
     ]
    }
   ],
   "source": [
    "df.info()"
   ]
  },
  {
   "cell_type": "code",
   "execution_count": 8,
   "id": "adc5ef47-6420-4ffc-ac7d-fac88cf1b56a",
   "metadata": {},
   "outputs": [
    {
     "data": {
      "text/plain": [
       "6          50928\n",
       "4          48883\n",
       "5          45337\n",
       "8          44277\n",
       "3          42880\n",
       "9          38379\n",
       "7          32369\n",
       "30分?60分    31999\n",
       "10         31572\n",
       "11         30625\n",
       "2          27100\n",
       "13         22934\n",
       "1          19746\n",
       "14         18759\n",
       "15         18552\n",
       "12         15068\n",
       "16         14354\n",
       "18         11651\n",
       "19         10533\n",
       "20          8910\n",
       "21          7163\n",
       "23          6663\n",
       "25          6169\n",
       "24          4884\n",
       "28          4133\n",
       "26          3996\n",
       "0           3704\n",
       "1H?1H30     3624\n",
       "29          3587\n",
       "17          2515\n",
       "22          1082\n",
       "2H?          826\n",
       "1H30?2H      692\n",
       "27           412\n",
       "Name: 最寄駅：距離（分）, dtype: int64"
      ]
     },
     "execution_count": 8,
     "metadata": {},
     "output_type": "execute_result"
    }
   ],
   "source": [
    "df['最寄駅：距離（分）'].value_counts()"
   ]
  },
  {
   "cell_type": "code",
   "execution_count": 9,
   "id": "fe0da3c9-b0e8-4335-ba6b-4d68997ecf73",
   "metadata": {},
   "outputs": [],
   "source": [
    "time={\n",
    "    '30分?60分':45,\n",
    "    '1H?1H30':75,\n",
    "    '1H30?2H':105,\n",
    "    '2H?':120,\n",
    "}"
   ]
  },
  {
   "cell_type": "code",
   "execution_count": 10,
   "id": "18aa72c1-0a44-47a0-a035-b990b6c94917",
   "metadata": {},
   "outputs": [],
   "source": [
    "df['最寄駅：距離（分）']=df['最寄駅：距離（分）'].replace(time).astype(float)"
   ]
  },
  {
   "cell_type": "code",
   "execution_count": 11,
   "id": "817a9269-9601-40df-b1f1-be6121870e20",
   "metadata": {},
   "outputs": [
    {
     "data": {
      "text/plain": [
       "6.0      50928\n",
       "4.0      48883\n",
       "5.0      45337\n",
       "8.0      44277\n",
       "3.0      42880\n",
       "9.0      38379\n",
       "7.0      32369\n",
       "45.0     31999\n",
       "10.0     31572\n",
       "11.0     30625\n",
       "2.0      27100\n",
       "13.0     22934\n",
       "1.0      19746\n",
       "14.0     18759\n",
       "15.0     18552\n",
       "12.0     15068\n",
       "16.0     14354\n",
       "18.0     11651\n",
       "19.0     10533\n",
       "20.0      8910\n",
       "21.0      7163\n",
       "23.0      6663\n",
       "25.0      6169\n",
       "24.0      4884\n",
       "28.0      4133\n",
       "26.0      3996\n",
       "0.0       3704\n",
       "75.0      3624\n",
       "29.0      3587\n",
       "17.0      2515\n",
       "22.0      1082\n",
       "120.0      826\n",
       "105.0      692\n",
       "27.0       412\n",
       "Name: 最寄駅：距離（分）, dtype: int64"
      ]
     },
     "execution_count": 11,
     "metadata": {},
     "output_type": "execute_result"
    }
   ],
   "source": [
    "df['最寄駅：距離（分）'].value_counts()"
   ]
  },
  {
   "cell_type": "code",
   "execution_count": null,
   "id": "97465b87-6040-4e6f-917e-b5d929b7e82a",
   "metadata": {},
   "outputs": [],
   "source": []
  },
  {
   "cell_type": "code",
   "execution_count": 12,
   "id": "bb0a99c2-23a0-4601-b8f7-7a1489b4c119",
   "metadata": {},
   "outputs": [],
   "source": [
    "pd.set_option('display.max_rows', 500)"
   ]
  },
  {
   "cell_type": "code",
   "execution_count": 13,
   "id": "90b6384f-9c3c-4d72-b495-d9222d692245",
   "metadata": {},
   "outputs": [],
   "source": [
    "#df['面積（㎡）'].value_counts()"
   ]
  },
  {
   "cell_type": "code",
   "execution_count": 14,
   "id": "f32f6b54-2aaf-42fb-b07d-28d97a370001",
   "metadata": {},
   "outputs": [],
   "source": [
    "df['面積（㎡）']=df['面積（㎡）'].replace({'2000㎡以上':2000}).astype(float)"
   ]
  },
  {
   "cell_type": "code",
   "execution_count": 15,
   "id": "fc20792b-e5f0-455e-aec5-19976a52be76",
   "metadata": {},
   "outputs": [],
   "source": [
    "#df['面積（㎡）'].value_counts()"
   ]
  },
  {
   "cell_type": "code",
   "execution_count": 16,
   "id": "426944c6-eee4-49e3-be04-c5c067f10f67",
   "metadata": {},
   "outputs": [
    {
     "data": {
      "text/plain": [
       "'3'"
      ]
     },
     "execution_count": 16,
     "metadata": {},
     "output_type": "execute_result"
    }
   ],
   "source": [
    "df['建築年'].value_counts().keys()[0].split('平成')[1].split('年')[0]"
   ]
  },
  {
   "cell_type": "code",
   "execution_count": 17,
   "id": "40fa284f-5fb3-4fbf-aab3-af7e87379332",
   "metadata": {},
   "outputs": [],
   "source": [
    "year_rep={}\n",
    "\n",
    "for i in df['建築年'].value_counts().keys():\n",
    "    if '平成' in i:\n",
    "        num=float(i.split('平成')[1].split('年')[0])\n",
    "        year=33-num\n",
    "    if '令和' in i:\n",
    "        num=float(i.split('令和')[1].split('年')[0])\n",
    "        year=3-num\n",
    "    if '昭和' in i:\n",
    "        num=float(i.split('昭和')[1].split('年')[0])\n",
    "        year=96-num \n",
    "    year_rep[i]=year\n",
    "    year_rep['戦前']=75\n",
    "\n",
    "        "
   ]
  },
  {
   "cell_type": "code",
   "execution_count": 18,
   "id": "6ab6de8e-55cb-4cd5-8df2-8751a80a5d4a",
   "metadata": {},
   "outputs": [],
   "source": [
    "df['建築年']=df['建築年'].replace(year_rep)  "
   ]
  },
  {
   "cell_type": "code",
   "execution_count": 19,
   "id": "c86c466b-f5f1-44e2-9f9f-5a39559cd361",
   "metadata": {},
   "outputs": [
    {
     "data": {
      "text/plain": [
       "30.0    21982\n",
       "13.0    21947\n",
       "15.0    21719\n",
       "14.0    21398\n",
       "23.0    20749\n",
       "18.0    20732\n",
       "21.0    20551\n",
       "16.0    20465\n",
       "26.0    20426\n",
       "31.0    19921\n",
       "25.0    19534\n",
       "19.0    19468\n",
       "24.0    18887\n",
       "20.0    18749\n",
       "22.0    18570\n",
       "17.0    18359\n",
       "32.0    16886\n",
       "29.0    16114\n",
       "33.0    16009\n",
       "12.0    15380\n",
       "27.0    14287\n",
       "34.0    13899\n",
       "37.0    13736\n",
       "36.0    13244\n",
       "35.0    12658\n",
       "47.0    11660\n",
       "28.0    10759\n",
       "11.0     9814\n",
       "42.0     8801\n",
       "39.0     8710\n",
       "41.0     8566\n",
       "40.0     8224\n",
       "9.0      7813\n",
       "10.0     7466\n",
       "48.0     7347\n",
       "38.0     7004\n",
       "43.0     6808\n",
       "8.0      6530\n",
       "46.0     6427\n",
       "44.0     5519\n",
       "7.0      5353\n",
       "45.0     5203\n",
       "49.0     4833\n",
       "6.0      4616\n",
       "50.0     4297\n",
       "51.0     3669\n",
       "5.0      3138\n",
       "52.0     2197\n",
       "53.0     2064\n",
       "4.0      2012\n",
       "3.0      1272\n",
       "54.0      876\n",
       "2.0       712\n",
       "55.0      590\n",
       "75.0      572\n",
       "56.0      197\n",
       "57.0      147\n",
       "58.0       48\n",
       "1.0        32\n",
       "59.0       29\n",
       "74.0       21\n",
       "62.0       21\n",
       "60.0       17\n",
       "63.0       12\n",
       "71.0       11\n",
       "68.0       11\n",
       "61.0       10\n",
       "72.0        7\n",
       "67.0        7\n",
       "69.0        6\n",
       "65.0        5\n",
       "73.0        5\n",
       "70.0        4\n",
       "64.0        3\n",
       "66.0        2\n",
       "Name: 建築年, dtype: int64"
      ]
     },
     "execution_count": 19,
     "metadata": {},
     "output_type": "execute_result"
    }
   ],
   "source": [
    "df['建築年'].value_counts()"
   ]
  },
  {
   "cell_type": "code",
   "execution_count": 20,
   "id": "bab4d984-ac95-4bb5-99da-0a69e2635014",
   "metadata": {},
   "outputs": [
    {
     "data": {
      "text/plain": [
       "Index(['2014年第１四半期', '2017年第１四半期', '2015年第１四半期', '2013年第１四半期', '2013年第２四半期',\n",
       "       '2018年第１四半期', '2016年第１四半期', '2019年第２四半期', '2016年第２四半期', '2019年第１四半期',\n",
       "       '2010年第４四半期', '2019年第３四半期', '2015年第２四半期', '2018年第４四半期', '2011年第１四半期',\n",
       "       '2017年第４四半期', '2015年第４四半期', '2018年第２四半期', '2015年第３四半期', '2016年第３四半期',\n",
       "       '2017年第３四半期', '2010年第３四半期', '2013年第４四半期', '2016年第４四半期', '2014年第４四半期',\n",
       "       '2013年第３四半期', '2019年第４四半期', '2018年第３四半期', '2010年第１四半期', '2017年第２四半期',\n",
       "       '2012年第４四半期', '2012年第１四半期', '2014年第３四半期', '2010年第２四半期', '2014年第２四半期',\n",
       "       '2009年第４四半期', '2012年第２四半期', '2009年第３四半期', '2012年第３四半期', '2011年第４四半期',\n",
       "       '2009年第２四半期', '2011年第３四半期', '2009年第１四半期', '2011年第２四半期', '2008年第３四半期',\n",
       "       '2008年第４四半期', '2008年第２四半期', '2008年第１四半期', '2007年第４四半期', '2007年第２四半期',\n",
       "       '2007年第３四半期', '2007年第１四半期', '2006年第４四半期', '2006年第３四半期', '2006年第２四半期',\n",
       "       '2006年第１四半期', '2005年第４四半期', '2005年第３四半期'],\n",
       "      dtype='object')"
      ]
     },
     "execution_count": 20,
     "metadata": {},
     "output_type": "execute_result"
    }
   ],
   "source": [
    "df['取引時点'].value_counts().keys()"
   ]
  },
  {
   "cell_type": "code",
   "execution_count": 21,
   "id": "aa88bad0-3b83-4355-8614-ff344eda401e",
   "metadata": {},
   "outputs": [],
   "source": [
    "year={\n",
    "    '年第１四半期':'.25',\n",
    "    '年第２四半期':'.50',\n",
    "    '年第３四半期':'.75',\n",
    "    '年第４四半期':'.99',\n",
    "}"
   ]
  },
  {
   "cell_type": "code",
   "execution_count": 22,
   "id": "d3435ccb-269e-490e-b33f-a55e7cd2522f",
   "metadata": {},
   "outputs": [],
   "source": [
    "year_list={}\n",
    "\n",
    "for i in df['取引時点'].value_counts().keys():\n",
    "    for k,j in year.items():\n",
    "        if k in i:\n",
    "            year_rep=i.replace(k,j)\n",
    "    year_list[i]=year_rep        \n",
    "df['取引時点']=df['取引時点'].replace(year_list).astype(float)            "
   ]
  },
  {
   "cell_type": "code",
   "execution_count": 23,
   "id": "e73605a8-4ad8-478b-b23f-f7b64c79d13c",
   "metadata": {},
   "outputs": [
    {
     "data": {
      "text/plain": [
       "2014.25    13561\n",
       "2017.25    13248\n",
       "2015.25    13237\n",
       "2013.25    13233\n",
       "2013.50    13221\n",
       "2018.25    13190\n",
       "2016.25    13099\n",
       "2019.50    13047\n",
       "2016.50    13044\n",
       "2019.25    12975\n",
       "2010.99    12867\n",
       "2019.75    12831\n",
       "2015.50    12808\n",
       "2018.99    12731\n",
       "2011.25    12675\n",
       "2017.99    12600\n",
       "2015.99    12551\n",
       "2018.50    12531\n",
       "2015.75    12485\n",
       "2016.75    12470\n",
       "2017.75    12458\n",
       "2010.75    12457\n",
       "2013.99    12412\n",
       "2016.99    12389\n",
       "2014.99    12187\n",
       "2013.75    12173\n",
       "2019.99    12077\n",
       "2018.75    11995\n",
       "2010.25    11984\n",
       "2017.50    11806\n",
       "2012.99    11753\n",
       "2012.25    11666\n",
       "2014.75    11661\n",
       "2010.50    11596\n",
       "2014.50    11499\n",
       "2009.99    11488\n",
       "2012.50    11115\n",
       "2009.75    10983\n",
       "2012.75    10946\n",
       "2011.99    10934\n",
       "2009.50    10883\n",
       "2011.75    10779\n",
       "2009.25    10605\n",
       "2011.50    10506\n",
       "2008.75     9962\n",
       "2008.99     9947\n",
       "2008.50     9873\n",
       "2008.25     9541\n",
       "2007.99     9304\n",
       "2007.50     9144\n",
       "2007.75     8914\n",
       "2007.25     6174\n",
       "2006.99     5613\n",
       "2006.75     5395\n",
       "2006.50     5221\n",
       "2006.25     4322\n",
       "2005.99     3650\n",
       "2005.75     3535\n",
       "Name: 取引時点, dtype: int64"
      ]
     },
     "execution_count": 23,
     "metadata": {},
     "output_type": "execute_result"
    }
   ],
   "source": [
    "df['取引時点'].value_counts()"
   ]
  },
  {
   "cell_type": "code",
   "execution_count": 24,
   "id": "c34f383d-89fe-4fa9-99be-a4dad5a609ed",
   "metadata": {},
   "outputs": [
    {
     "data": {
      "image/png": "[encoded data removed]",
      "text/plain": [
       "<Figure size 1440x720 with 4 Axes>"
      ]
     },
     "metadata": {
      "needs_background": "light"
     },
     "output_type": "display_data"
    }
   ],
   "source": [
    "fig,axes=plt.subplots(2,2,figsize=(20,10))\n",
    "axes[0][0].hist(df['最寄駅：距離（分）'],bins=20)\n",
    "axes[0][1].hist(df['面積（㎡）'],bins=200)\n",
    "axes[0][1].set_xlim(0,250)\n",
    "axes[1][0].hist(df['建築年'],bins=20)\n",
    "axes[1][1].hist(df['取引価格（総額）_log'],bins=20)\n",
    "plt.show()"
   ]
  },
  {
   "cell_type": "code",
   "execution_count": 25,
   "id": "eb60029c-3934-44b9-b8b0-2753d84597c1",
   "metadata": {},
   "outputs": [
    {
     "data": {
      "image/png": "[encoded data removed]",
      "text/plain": [
       "<Figure size 720x720 with 3 Axes>"
      ]
     },
     "metadata": {
      "needs_background": "light"
     },
     "output_type": "display_data"
    }
   ],
   "source": [
    "fig,axes=plt.subplots(3,1,figsize=(10,10))\n",
    "axes[0].scatter(df['最寄駅：距離（分）'],df['取引価格（総額）_log'],alpha=0.1)\n",
    "axes[1].scatter(df['面積（㎡）'],df['取引価格（総額）_log'],alpha=0.1)\n",
    "axes[2].scatter(df['建築年'],df['取引価格（総額）_log'],alpha=0.1)\n",
    "\n",
    "plt.show()"
   ]
  },
  {
   "cell_type": "code",
   "execution_count": 26,
   "id": "4a5e6a56-77e4-4f79-ba6c-e0939ed3d99d",
   "metadata": {},
   "outputs": [
    {
     "data": {
      "text/html": [
       "<div>\n",
       "<style scoped>\n",
       "    .dataframe tbody tr th:only-of-type {\n",
       "        vertical-align: middle;\n",
       "    }\n",
       "\n",
       "    .dataframe tbody tr th {\n",
       "        vertical-align: top;\n",
       "    }\n",
       "\n",
       "    .dataframe thead th {\n",
       "        text-align: right;\n",
       "    }\n",
       "</style>\n",
       "<table border=\"1\" class=\"dataframe\">\n",
       "  <thead>\n",
       "    <tr style=\"text-align: right;\">\n",
       "      <th></th>\n",
       "      <th>最寄駅：距離（分）</th>\n",
       "      <th>面積（㎡）</th>\n",
       "      <th>建築年</th>\n",
       "      <th>取引価格（総額）_log</th>\n",
       "    </tr>\n",
       "  </thead>\n",
       "  <tbody>\n",
       "    <tr>\n",
       "      <th>最寄駅：距離（分）</th>\n",
       "      <td>1.000000</td>\n",
       "      <td>0.151880</td>\n",
       "      <td>0.117842</td>\n",
       "      <td>-0.215520</td>\n",
       "    </tr>\n",
       "    <tr>\n",
       "      <th>面積（㎡）</th>\n",
       "      <td>0.151880</td>\n",
       "      <td>1.000000</td>\n",
       "      <td>-0.067445</td>\n",
       "      <td>0.382755</td>\n",
       "    </tr>\n",
       "    <tr>\n",
       "      <th>建築年</th>\n",
       "      <td>0.117842</td>\n",
       "      <td>-0.067445</td>\n",
       "      <td>1.000000</td>\n",
       "      <td>-0.538672</td>\n",
       "    </tr>\n",
       "    <tr>\n",
       "      <th>取引価格（総額）_log</th>\n",
       "      <td>-0.215520</td>\n",
       "      <td>0.382755</td>\n",
       "      <td>-0.538672</td>\n",
       "      <td>1.000000</td>\n",
       "    </tr>\n",
       "  </tbody>\n",
       "</table>\n",
       "</div>"
      ],
      "text/plain": [
       "              最寄駅：距離（分）     面積（㎡）       建築年  取引価格（総額）_log\n",
       "最寄駅：距離（分）      1.000000  0.151880  0.117842     -0.215520\n",
       "面積（㎡）          0.151880  1.000000 -0.067445      0.382755\n",
       "建築年            0.117842 -0.067445  1.000000     -0.538672\n",
       "取引価格（総額）_log  -0.215520  0.382755 -0.538672      1.000000"
      ]
     },
     "execution_count": 26,
     "metadata": {},
     "output_type": "execute_result"
    }
   ],
   "source": [
    "df[['最寄駅：距離（分）','面積（㎡）','建築年','取引価格（総額）_log']].corr()"
   ]
  },
  {
   "cell_type": "code",
   "execution_count": 27,
   "id": "c441840e-c469-410d-baaf-0c9fd8e5f1d8",
   "metadata": {},
   "outputs": [
    {
     "data": {
      "text/plain": [
       "<AxesSubplot:>"
      ]
     },
     "execution_count": 27,
     "metadata": {},
     "output_type": "execute_result"
    },
    {
     "data": {
      "image/png": "[encoded data removed]",
      "text/plain": [
       "<Figure size 432x288 with 2 Axes>"
      ]
     },
     "metadata": {
      "needs_background": "light"
     },
     "output_type": "display_data"
    }
   ],
   "source": [
    "import matplotlib\n",
    "matplotlib.rcParams[\"font.family\"]='MS Gothic'\n",
    "sns.heatmap(df[['最寄駅：距離（分）','面積（㎡）','建築年','取引価格（総額）_log']].corr())\n"
   ]
  },
  {
   "cell_type": "code",
   "execution_count": 28,
   "id": "bdbbb4be-e42e-448d-a24c-bcaaafe36e33",
   "metadata": {},
   "outputs": [
    {
     "name": "stdout",
     "output_type": "stream",
     "text": [
      "<class 'pandas.core.frame.DataFrame'>\n",
      "Int64Index: 637351 entries, 1060685 to 47003572\n",
      "Data columns (total 18 columns):\n",
      " #   Column        Non-Null Count   Dtype  \n",
      "---  ------        --------------   -----  \n",
      " 0   市区町村コード       637351 non-null  int64  \n",
      " 1   都道府県名         637351 non-null  object \n",
      " 2   地区名           637060 non-null  object \n",
      " 3   最寄駅：名称        634732 non-null  object \n",
      " 4   最寄駅：距離（分）     614306 non-null  float64\n",
      " 5   間取り           615609 non-null  object \n",
      " 6   面積（㎡）         637351 non-null  float64\n",
      " 7   建築年           619117 non-null  float64\n",
      " 8   建物の構造         623423 non-null  object \n",
      " 9   用途            591214 non-null  object \n",
      " 10  今後の利用目的       275091 non-null  object \n",
      " 11  都市計画          618786 non-null  object \n",
      " 12  建ぺい率（％）       614848 non-null  float64\n",
      " 13  容積率（％）        614848 non-null  float64\n",
      " 14  取引時点          637351 non-null  float64\n",
      " 15  改装            580431 non-null  object \n",
      " 16  取引の事情等        18275 non-null   object \n",
      " 17  取引価格（総額）_log  637351 non-null  float64\n",
      "dtypes: float64(7), int64(1), object(10)\n",
      "memory usage: 92.4+ MB\n"
     ]
    }
   ],
   "source": [
    "df.info()"
   ]
  },
  {
   "cell_type": "code",
   "execution_count": null,
   "id": "6bc85e68-f6e9-4ac7-851d-8aa803eaaea4",
   "metadata": {},
   "outputs": [],
   "source": []
  }
 ],
 "metadata": {
  "kernelspec": {
   "display_name": "Python 3 (ipykernel)",
   "language": "python",
   "name": "python3"
  },
  "language_info": {
   "codemirror_mode": {
    "name": "ipython",
    "version": 3
   },
   "file_extension": ".py",
   "mimetype": "text/x-python",
   "name": "python",
   "nbconvert_exporter": "python",
   "pygments_lexer": "ipython3",
   "version": "3.8.12"
  }
 },
 "nbformat": 4,
 "nbformat_minor": 5
}
